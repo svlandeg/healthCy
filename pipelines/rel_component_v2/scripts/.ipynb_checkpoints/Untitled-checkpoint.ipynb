{
 "cells": [
  {
   "cell_type": "code",
   "execution_count": 1,
   "id": "2c20e681",
   "metadata": {},
   "outputs": [],
   "source": [
    "import spacy\n",
    "import json\n",
    "import typer\n",
    "from spacy.tokens import Span, DocBin, Doc\n",
    "from spacy.vocab import Vocab\n",
    "import random\n",
    "from wasabi import Printer\n",
    "from pathlib import Path\n",
    "\n",
    "from rel_pipeline import get_tokens, calculate_tensor, create_pairs"
   ]
  },
  {
   "cell_type": "code",
   "execution_count": 6,
   "id": "58fbd0a1",
   "metadata": {},
   "outputs": [],
   "source": [
    "    vocab = Vocab()\n",
    "    spacy.prefer_gpu()\n",
    "\n",
    "    nlp = spacy.load(\"../../ner_component/training/model-best\")\n",
    "    mask_entities = [\"CONDITION\", \"BENEFIT\"]\n",
    "    relations = [\"RELATED\"]\n",
    "\n",
    "    dep = \"../assets/dependencies.json\"\n",
    "    pos = \"../assets/partofspeech.json\"\n",
    "    \n",
    "    dep_list = None\n",
    "    pos_list = None\n",
    "\n",
    "    with open(dep, \"r\") as f:\n",
    "        dep_list = json.load(f)\n",
    "\n",
    "    with open(pos, \"r\") as f:\n",
    "        pos_list = json.load(f)"
   ]
  },
  {
   "cell_type": "code",
   "execution_count": 8,
   "id": "9c1658c5",
   "metadata": {},
   "outputs": [],
   "source": [
    "lines = []\n",
    "with open(\"../assets/annotations.jsonl\",\"r\", encoding=\"utf8\") as jsonfile:\n",
    "        for line in jsonfile:\n",
    "            lines.append(line)"
   ]
  },
  {
   "cell_type": "code",
   "execution_count": 25,
   "id": "12f4ad64",
   "metadata": {},
   "outputs": [
    {
     "name": "stdout",
     "output_type": "stream",
     "text": [
      "Excellent!. Perfect for immunity, I recommend\n",
      "['Perfect', 'immunity']\n",
      "['for', 'immunity']\n"
     ]
    }
   ],
   "source": [
    "for line in lines[:1]:\n",
    "    example = json.loads(line)\n",
    "    if example[\"answer\"] == \"accept\":\n",
    "        #print(line)\n",
    "        #words = [t[\"text\"] for t in example[\"tokens\"]]\n",
    "        #spaces = [t[\"ws\"] for t in example[\"tokens\"]]\n",
    "        #doc = Doc(vocab, words=words, spaces=spaces)\n",
    "\n",
    "        doc = nlp(example[\"text\"])\n",
    "        ents_list = []\n",
    "\n",
    "        for span in example[\"spans\"]:\n",
    "            ents_list.append(\n",
    "                Span(\n",
    "                    doc,\n",
    "                    span[\"token_start\"],\n",
    "                    span[\"token_end\"]+1,\n",
    "                    span[\"label\"],\n",
    "                    )\n",
    "            )\n",
    "        print(example[\"text\"])\n",
    "        doc.set_ents(ents_list)\n",
    "        tokens = get_tokens(doc)\n",
    "        pairs = calculate_tensor(\n",
    "            create_pairs(tokens),\n",
    "            mask_entities,\n",
    "            relations,\n",
    "            dep_list,\n",
    "            pos_list,\n",
    "        )\n",
    "        print(tokens)\n",
    "        for relation in example[\"relations\"]:\n",
    "            key1 = (\n",
    "                relation[\"head_span\"][\"token_start\"],\n",
    "                relation[\"head_span\"][\"token_end\"],\n",
    "                relation[\"child_span\"][\"token_start\"],\n",
    "                relation[\"child_span\"][\"token_end\"],\n",
    "            )\n",
    "            key2 = (\n",
    "                relation[\"child_span\"][\"token_start\"],\n",
    "                relation[\"child_span\"][\"token_end\"],\n",
    "                relation[\"head_span\"][\"token_start\"],\n",
    "                relation[\"head_span\"][\"token_end\"],\n",
    "            )\n",
    "\n",
    "            if key1 in pairs:\n",
    "                pairs[key1][\"relation\"][relation[\"label\"]] = 1.0\n",
    "            elif key2 in pairs:\n",
    "                pairs[key2][\"relation\"][relation[\"label\"]] = 1.0\n",
    "            else:\n",
    "                print(\"KEY NOT FOUND!!!\")\n",
    "                \n",
    "        for pair in pairs:\n",
    "            if pairs[pair][\"relation\"][\"RELATED\"] == 1:\n",
    "                print(pairs[pair])"
   ]
  }
 ],
 "metadata": {
  "kernelspec": {
   "display_name": "Python 3",
   "language": "python",
   "name": "python3"
  },
  "language_info": {
   "codemirror_mode": {
    "name": "ipython",
    "version": 3
   },
   "file_extension": ".py",
   "mimetype": "text/x-python",
   "name": "python",
   "nbconvert_exporter": "python",
   "pygments_lexer": "ipython3",
   "version": "3.9.2"
  }
 },
 "nbformat": 4,
 "nbformat_minor": 5
}
