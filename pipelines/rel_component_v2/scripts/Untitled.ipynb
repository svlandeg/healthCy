{
 "cells": [
  {
   "cell_type": "code",
   "execution_count": 1,
   "id": "465c89a6",
   "metadata": {},
   "outputs": [],
   "source": [
    "import spacy\n",
    "import json\n",
    "import typer\n",
    "from spacy.tokens import Span, DocBin, Doc\n",
    "from spacy.vocab import Vocab\n",
    "import random\n",
    "from wasabi import Printer\n",
    "from pathlib import Path\n",
    "import numpy as np\n",
    "from tqdm import tqdm\n",
    "\n",
    "\n",
    "from rel_pipeline import get_tokens, calculate_tensor, create_pairs, dict_to_vector\n"
   ]
  },
  {
   "cell_type": "code",
   "execution_count": 2,
   "id": "d9681935",
   "metadata": {},
   "outputs": [],
   "source": [
    "nlp = spacy.load(\"../../ner_component/training/model-best\")\n",
    "text = \"This helped my joint pain barely\"\n",
    "doc = nlp(text)"
   ]
  },
  {
   "cell_type": "code",
   "execution_count": 7,
   "id": "9956dee3",
   "metadata": {},
   "outputs": [
    {
     "name": "stdout",
     "output_type": "stream",
     "text": [
      "dict_keys([(0, 0, 1, 1), (0, 0, 2, 2), (0, 0, 3, 4), (0, 0, 5, 5), (1, 1, 2, 2), (1, 1, 3, 4), (1, 1, 5, 5), (2, 2, 3, 4), (2, 2, 5, 5), (3, 4, 5, 5)])\n"
     ]
    }
   ],
   "source": [
    "tokens = get_tokens(doc)\n",
    "pairs = calculate_tensor(create_pairs(tokens),[\"RELATED\"])\n",
    "print(pairs.keys())"
   ]
  }
 ],
 "metadata": {
  "kernelspec": {
   "display_name": "Python 3",
   "language": "python",
   "name": "python3"
  },
  "language_info": {
   "codemirror_mode": {
    "name": "ipython",
    "version": 3
   },
   "file_extension": ".py",
   "mimetype": "text/x-python",
   "name": "python",
   "nbconvert_exporter": "python",
   "pygments_lexer": "ipython3",
   "version": "3.9.2"
  }
 },
 "nbformat": 4,
 "nbformat_minor": 5
}
