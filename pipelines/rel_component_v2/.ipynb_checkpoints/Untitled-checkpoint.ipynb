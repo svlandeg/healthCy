{
 "cells": [
  {
   "cell_type": "code",
   "execution_count": 10,
   "id": "7e57977e",
   "metadata": {},
   "outputs": [],
   "source": [
    "import pandas as pd\n",
    "import json\n",
    "\n",
    "dep = pd.read_csv(\"assets/dependencies.csv\")\n",
    "#pos = pd.read_csv(\"assets/partofspeech.csv\")"
   ]
  },
  {
   "cell_type": "code",
   "execution_count": 11,
   "id": "df9d3ece",
   "metadata": {},
   "outputs": [],
   "source": [
    "dep_list = []\n",
    "for index, row in dep.iterrows():\n",
    "    dep_list.append(row[\"Label\"])\n",
    "    \n"
   ]
  },
  {
   "cell_type": "code",
   "execution_count": 12,
   "id": "0bde06f0",
   "metadata": {},
   "outputs": [],
   "source": [
    "with open(\"assets/dependencies.json\",'w') as f:\n",
    "    json.dump(dep_list,f)\n"
   ]
  },
  {
   "cell_type": "code",
   "execution_count": 9,
   "id": "3851fdde",
   "metadata": {},
   "outputs": [],
   "source": [
    "with open(\"assets/partofspeech.json\",'w') as f:\n",
    "    json.dump(pos_list,f)"
   ]
  },
  {
   "cell_type": "code",
   "execution_count": 1,
   "id": "c946acec",
   "metadata": {},
   "outputs": [],
   "source": [
    "    from spacy.vocab import Vocab\n",
    "    import numpy as np\n",
    "    from thinc.api import prefer_gpu\n",
    "    import thinc.util\n",
    "    from thinc.api import Adam, fix_random_seed\n",
    "    from tqdm.notebook import tqdm\n",
    "    from spacy.tokens import Doc, DocBin"
   ]
  },
  {
   "cell_type": "code",
   "execution_count": 2,
   "id": "76510714",
   "metadata": {},
   "outputs": [],
   "source": [
    "Doc.set_extension(\"rel\", default={})\n",
    "vocab = Vocab()\n",
    "\n",
    "    \n",
    "training_path = \"data/train.spacy\"\n",
    "training_data = list(DocBin().from_disk(training_path).get_docs(vocab))"
   ]
  },
  {
   "cell_type": "code",
   "execution_count": 3,
   "id": "b03672b1",
   "metadata": {},
   "outputs": [],
   "source": [
    "train_x = []\n",
    "train_y = []\n",
    "\n",
    "for doc in training_data:\n",
    "    for pairs in doc._.rel:\n",
    "        train_x.append(doc._.rel[pairs][\"tensor\"])\n",
    "        train_y.append(np.array(list(doc._.rel[pairs][\"relation\"].values())))"
   ]
  },
  {
   "cell_type": "code",
   "execution_count": 6,
   "id": "3d785187",
   "metadata": {},
   "outputs": [
    {
     "name": "stdout",
     "output_type": "stream",
     "text": [
      "343/21629\n"
     ]
    }
   ],
   "source": [
    "counter = 0\n",
    "for i in range(0,len(train_x)):\n",
    "    if 1 in train_y[i]:\n",
    "        #print(train_y)\n",
    "        counter+= 1\n",
    "        \n",
    "print(f\"{counter}/{len(train_x)}\")"
   ]
  },
  {
   "cell_type": "code",
   "execution_count": null,
   "id": "1dae3e81",
   "metadata": {},
   "outputs": [],
   "source": []
  },
  {
   "cell_type": "code",
   "execution_count": 9,
   "id": "5b9cbfa5",
   "metadata": {},
   "outputs": [
    {
     "name": "stdout",
     "output_type": "stream",
     "text": [
      "5*5  :  55\n",
      "9*5+5  :  955\n",
      "p*s+  :  s\n",
      "p+?t??s?  :  p\n",
      "0.0?  :  09\n",
      "0[0:]*  :  0\n"
     ]
    }
   ],
   "source": [
    "import re\n",
    "\n",
    "zeichenkette = '30955 pts/4    10:00:00 ps'\n",
    "mu = ('5*5', '9*5+5','p*s+','p+?t??s?','0.0?','0[0:]*')\n",
    "\n",
    "for item in mu:\n",
    "    print (item, \" : \", re.search(item,zeichenkette).group())\n"
   ]
  },
  {
   "cell_type": "code",
   "execution_count": 22,
   "id": "45ca19d6",
   "metadata": {},
   "outputs": [
    {
     "name": "stdout",
     "output_type": "stream",
     "text": [
      "dict_items([('C', '(2342)'), ('T', [24, (25, 26)]), ('p', 'dash'), (1, {-1: [1, (1, 1)]})])\n"
     ]
    }
   ],
   "source": [
    "d = {\"C\":\"(2342)\", \"T\":[24,(25,26)], \"p\":\"dash\", 1: {-1: [1,(1,1)]}}\n",
    "print(d.items())"
   ]
  },
  {
   "cell_type": "code",
   "execution_count": 12,
   "id": "44a9d1d7",
   "metadata": {},
   "outputs": [
    {
     "ename": "TypeError",
     "evalue": "'int' object is not subscriptable",
     "output_type": "error",
     "traceback": [
      "\u001b[1;31m---------------------------------------------------------------------------\u001b[0m",
      "\u001b[1;31mTypeError\u001b[0m                                 Traceback (most recent call last)",
      "\u001b[1;32m<ipython-input-12-d35b42767bd9>\u001b[0m in \u001b[0;36m<module>\u001b[1;34m\u001b[0m\n\u001b[0;32m      1\u001b[0m \u001b[0ml\u001b[0m \u001b[1;33m=\u001b[0m \u001b[1;36m1\u001b[0m\u001b[1;33m\u001b[0m\u001b[1;33m\u001b[0m\u001b[0m\n\u001b[1;32m----> 2\u001b[1;33m \u001b[0mprint\u001b[0m\u001b[1;33m(\u001b[0m\u001b[0ml\u001b[0m\u001b[1;33m[\u001b[0m\u001b[1;33m-\u001b[0m\u001b[1;36m1\u001b[0m\u001b[1;33m:\u001b[0m\u001b[1;33m]\u001b[0m\u001b[1;33m)\u001b[0m\u001b[1;33m\u001b[0m\u001b[1;33m\u001b[0m\u001b[0m\n\u001b[0m",
      "\u001b[1;31mTypeError\u001b[0m: 'int' object is not subscriptable"
     ]
    }
   ],
   "source": [
    "l = 1\n",
    "print(l[-1:])"
   ]
  },
  {
   "cell_type": "code",
   "execution_count": 5,
   "id": "19c9f349",
   "metadata": {},
   "outputs": [
    {
     "name": "stdout",
     "output_type": "stream",
     "text": [
      "<class 'numpy.ndarray'>\n"
     ]
    },
    {
     "ename": "TypeError",
     "evalue": "isinstance() arg 2 must be a type or tuple of types",
     "output_type": "error",
     "traceback": [
      "\u001b[1;31m---------------------------------------------------------------------------\u001b[0m",
      "\u001b[1;31mTypeError\u001b[0m                                 Traceback (most recent call last)",
      "\u001b[1;32m<ipython-input-5-db25455ba76c>\u001b[0m in \u001b[0;36m<module>\u001b[1;34m\u001b[0m\n\u001b[0;32m      6\u001b[0m \u001b[1;33m\u001b[0m\u001b[0m\n\u001b[0;32m      7\u001b[0m \u001b[0mprint\u001b[0m\u001b[1;33m(\u001b[0m\u001b[0mtype\u001b[0m\u001b[1;33m(\u001b[0m\u001b[0mdoc\u001b[0m\u001b[1;33m[\u001b[0m\u001b[1;36m0\u001b[0m\u001b[1;33m]\u001b[0m\u001b[1;33m.\u001b[0m\u001b[0mtensor\u001b[0m\u001b[1;33m)\u001b[0m\u001b[1;33m)\u001b[0m\u001b[1;33m\u001b[0m\u001b[1;33m\u001b[0m\u001b[0m\n\u001b[1;32m----> 8\u001b[1;33m \u001b[0mprint\u001b[0m\u001b[1;33m(\u001b[0m\u001b[0misinstance\u001b[0m\u001b[1;33m(\u001b[0m\u001b[0mdoc\u001b[0m\u001b[1;33m[\u001b[0m\u001b[1;36m0\u001b[0m\u001b[1;33m]\u001b[0m\u001b[1;33m.\u001b[0m\u001b[0mtensor\u001b[0m\u001b[1;33m,\u001b[0m\u001b[1;34m\"numpy.ndarray\"\u001b[0m\u001b[1;33m)\u001b[0m\u001b[1;33m)\u001b[0m\u001b[1;33m\u001b[0m\u001b[1;33m\u001b[0m\u001b[0m\n\u001b[0m",
      "\u001b[1;31mTypeError\u001b[0m: isinstance() arg 2 must be a type or tuple of types"
     ]
    }
   ],
   "source": [
    "import spacy\n",
    "import numpy as np\n",
    "nlp = spacy.load(\"../ner_component/training/model-best\")\n",
    "\n",
    "text = \"This helped my joint pain\"\n",
    "doc = nlp(text)\n",
    "\n",
    "print(type(doc[0].tensor))\n",
    "print(isinstance(doc[0].tensor,np.ndarray))"
   ]
  },
  {
   "cell_type": "code",
   "execution_count": null,
   "id": "6fc75f51",
   "metadata": {},
   "outputs": [],
   "source": []
  }
 ],
 "metadata": {
  "kernelspec": {
   "display_name": "Python 3",
   "language": "python",
   "name": "python3"
  },
  "language_info": {
   "codemirror_mode": {
    "name": "ipython",
    "version": 3
   },
   "file_extension": ".py",
   "mimetype": "text/x-python",
   "name": "python",
   "nbconvert_exporter": "python",
   "pygments_lexer": "ipython3",
   "version": "3.9.2"
  }
 },
 "nbformat": 4,
 "nbformat_minor": 5
}
