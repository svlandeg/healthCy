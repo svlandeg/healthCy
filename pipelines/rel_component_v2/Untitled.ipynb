{
 "cells": [
  {
   "cell_type": "code",
   "execution_count": 10,
   "id": "7e57977e",
   "metadata": {},
   "outputs": [],
   "source": [
    "import pandas as pd\n",
    "import json\n",
    "\n",
    "dep = pd.read_csv(\"assets/dependencies.csv\")\n",
    "#pos = pd.read_csv(\"assets/partofspeech.csv\")"
   ]
  },
  {
   "cell_type": "code",
   "execution_count": 11,
   "id": "df9d3ece",
   "metadata": {},
   "outputs": [],
   "source": [
    "dep_list = []\n",
    "for index, row in dep.iterrows():\n",
    "    dep_list.append(row[\"Label\"])\n",
    "    \n"
   ]
  },
  {
   "cell_type": "code",
   "execution_count": 12,
   "id": "0bde06f0",
   "metadata": {},
   "outputs": [],
   "source": [
    "with open(\"assets/dependencies.json\",'w') as f:\n",
    "    json.dump(dep_list,f)\n"
   ]
  },
  {
   "cell_type": "code",
   "execution_count": 9,
   "id": "3851fdde",
   "metadata": {},
   "outputs": [],
   "source": [
    "with open(\"assets/partofspeech.json\",'w') as f:\n",
    "    json.dump(pos_list,f)"
   ]
  }
 ],
 "metadata": {
  "kernelspec": {
   "display_name": "Python 3",
   "language": "python",
   "name": "python3"
  },
  "language_info": {
   "codemirror_mode": {
    "name": "ipython",
    "version": 3
   },
   "file_extension": ".py",
   "mimetype": "text/x-python",
   "name": "python",
   "nbconvert_exporter": "python",
   "pygments_lexer": "ipython3",
   "version": "3.9.2"
  }
 },
 "nbformat": 4,
 "nbformat_minor": 5
}
