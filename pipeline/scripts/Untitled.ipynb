{
 "cells": [
  {
   "cell_type": "code",
   "execution_count": 41,
   "id": "0a5d8913",
   "metadata": {},
   "outputs": [],
   "source": [
    "import spacy\n",
    "import custom_components\n",
    "\n",
    "\n",
    "spacy.prefer_gpu()\n",
    "nlp = spacy.load(\"../training/healthsea/config_tok2vec\")"
   ]
  },
  {
   "cell_type": "code",
   "execution_count": 32,
   "id": "425fea22",
   "metadata": {},
   "outputs": [
    {
     "name": "stdout",
     "output_type": "stream",
     "text": [
      "I have <CONDITION> and this really helped me to breath better\n",
      "{'POSITIVE': 0.000527623516973108, 'NEUTRAL': 1.5523735783062875e-05, 'NEGATIVE': 8.157642150763422e-05, 'ANAMNESIS': 0.9993752837181091}\n",
      "\n",
      "\n",
      "\n",
      "I have asthma and this really helped me to <BENEFIT> better\n",
      "{'POSITIVE': 1.0, 'NEUTRAL': 1.7554901976524206e-11, 'NEGATIVE': 6.790358053621048e-09, 'ANAMNESIS': 1.340749455902568e-10}\n",
      "\n",
      "\n",
      "\n"
     ]
    }
   ],
   "source": [
    "texts = [\"I have <CONDITION> and this really helped me to breath better\",\n",
    "        \"I have asthma and this really helped me to <BENEFIT> better\"]\n",
    "\n",
    "for text in texts:\n",
    "    doc = nlp(text)\n",
    "    print(doc.text)\n",
    "    print(doc.cats)\n",
    "    print(\"\\n\\n\")"
   ]
  },
  {
   "cell_type": "code",
   "execution_count": 42,
   "id": "1cb3ea6d",
   "metadata": {},
   "outputs": [
    {
     "name": "stdout",
     "output_type": "stream",
     "text": [
      "[[have], [helped], [breath]]\n",
      "[I have asthma and this really helped me to breath better]\n"
     ]
    }
   ],
   "source": [
    "text = \"I have asthma and this really helped me to breath better\"\n",
    "doc = nlp(text)\n",
    "\n",
    "for sent in doc.sents:\n",
    "    verb_chunks = custom_components.get_verb_chunk(sent)\n",
    "    split_clauses = custom_components.split_sentence(sent, verb_chunks)\n",
    "    print(verb_chunks)\n",
    "    print(split_clauses)\n",
    "\n"
   ]
  }
 ],
 "metadata": {
  "kernelspec": {
   "display_name": "Python 3",
   "language": "python",
   "name": "python3"
  },
  "language_info": {
   "codemirror_mode": {
    "name": "ipython",
    "version": 3
   },
   "file_extension": ".py",
   "mimetype": "text/x-python",
   "name": "python",
   "nbconvert_exporter": "python",
   "pygments_lexer": "ipython3",
   "version": "3.9.2"
  }
 },
 "nbformat": 4,
 "nbformat_minor": 5
}
