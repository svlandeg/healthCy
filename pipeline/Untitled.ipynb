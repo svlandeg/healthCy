{
 "cells": [
  {
   "cell_type": "code",
   "execution_count": 47,
   "id": "8c112fcb",
   "metadata": {},
   "outputs": [
    {
     "name": "stdout",
     "output_type": "stream",
     "text": [
      "0: [1.         0.94710617 0.94710617] A\n",
      "0.9999999999999998 A\n",
      "0.947106171983955 B\n",
      "0.947106171983955 C\n",
      "1: [0.94710617 1.         1.        ] B\n",
      "0.9471061719839551 A\n",
      "1.0000000000000002 B\n",
      "1.0000000000000002 C\n",
      "2: [0.94710617 1.         1.        ] C\n",
      "0.9471061719839551 A\n",
      "1.0000000000000002 B\n",
      "1.0000000000000002 C\n"
     ]
    }
   ],
   "source": [
    "import numpy as np\n",
    "\n",
    "A = np.asarray([[1,2,3,5,6],[6,7,8,9,10],[6,7,8,9,10]])\n",
    "B = np.asarray([\"A\",\"B\",\"C\"])\n",
    "norms_reciprocal = 1.0 / np.linalg.norm(A, axis=-1)\n",
    "\n",
    "for i in range(A.shape[0]):\n",
    "    cosines_i = A.dot(A[i])* norms_reciprocal * norms_reciprocal[i]\n",
    "    print(f\"{i}: {cosines_i} {B[i]}\")\n",
    "    for k in range(len(cosines_i)):\n",
    "        print(cosines_i[k],B[k])\n",
    "\n",
    "\n"
   ]
  },
  {
   "cell_type": "code",
   "execution_count": 43,
   "id": "7e6d7d88",
   "metadata": {},
   "outputs": [
    {
     "name": "stdout",
     "output_type": "stream",
     "text": [
      "0.947106171983955\n"
     ]
    }
   ],
   "source": [
    "a = np.array([1,2,3,5,6])\n",
    "b = np.array([6,7,8,9,10])\n",
    "\n",
    "print(a.dot(b) / (np.linalg.norm(a, axis=0) * np.linalg.norm(b, axis=0)))"
   ]
  },
  {
   "cell_type": "code",
   "execution_count": 1,
   "id": "60b902fe",
   "metadata": {},
   "outputs": [
    {
     "name": "stdout",
     "output_type": "stream",
     "text": [
      "5.82\n"
     ]
    }
   ],
   "source": [
    "import time\n",
    "import cupy as cp\n",
    "\n",
    "start = time.time()\n",
    "\n",
    "n_embeds = 36125\n",
    "embed_dim = 300\n",
    "\n",
    "A = cp.random.randn(n_embeds * embed_dim, dtype=\"float32\").reshape(n_embeds, embed_dim)\n",
    "\n",
    "norms_reciprocal = 1.0 / cp.linalg.norm(A, axis=-1)\n",
    "\n",
    "for i in range(n_embeds):\n",
    "    cosines_i = A.dot(A[i]) * norms_reciprocal * norms_reciprocal[i]\n",
    "    \n",
    "print(round(time.time() - start, 2))"
   ]
  },
  {
   "cell_type": "code",
   "execution_count": null,
   "id": "7eff3264",
   "metadata": {},
   "outputs": [],
   "source": []
  }
 ],
 "metadata": {
  "kernelspec": {
   "display_name": "Python 3",
   "language": "python",
   "name": "python3"
  },
  "language_info": {
   "codemirror_mode": {
    "name": "ipython",
    "version": 3
   },
   "file_extension": ".py",
   "mimetype": "text/x-python",
   "name": "python",
   "nbconvert_exporter": "python",
   "pygments_lexer": "ipython3",
   "version": "3.9.2"
  }
 },
 "nbformat": 4,
 "nbformat_minor": 5
}
